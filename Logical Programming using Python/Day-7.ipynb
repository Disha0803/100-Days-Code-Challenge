{
 "cells": [
  {
   "cell_type": "markdown",
   "id": "1b2d4f1c",
   "metadata": {},
   "source": [
    "#### Stack Implementations"
   ]
  },
  {
   "cell_type": "code",
   "execution_count": 1,
   "id": "bd6ff556",
   "metadata": {},
   "outputs": [
    {
     "name": "stdout",
     "output_type": "stream",
     "text": [
      "How many elements you want to enter into the stack: 5\n",
      "Enter the elemnts:\n",
      "32\n",
      "Pushed  32\n",
      "21\n",
      "Pushed  21\n",
      "45\n",
      "Pushed  45\n",
      "65\n",
      "Pushed  65\n",
      "85\n",
      "Pushed  85\n",
      "Do you want to continue?\n",
      "Choose according to your choice:\n",
      "1-->push\n",
      "2-->pop\n",
      "3-->display stack\n",
      "4-->exit\n",
      "1\n",
      "Enter the element to push:\n",
      "78\n",
      "Pushed  78\n",
      "Do you want to continue?\n",
      "Choose according to your choice:\n",
      "1-->push\n",
      "2-->pop\n",
      "3-->display stack\n",
      "4-->exit\n",
      "3\n",
      "['32', '21', '45', '65', '85', '78']\n",
      "Do you want to continue?\n",
      "Choose according to your choice:\n",
      "1-->push\n",
      "2-->pop\n",
      "3-->display stack\n",
      "4-->exit\n",
      "2\n",
      "Do you want to continue?\n",
      "Choose according to your choice:\n",
      "1-->push\n",
      "2-->pop\n",
      "3-->display stack\n",
      "4-->exit\n",
      "3\n",
      "['32', '21', '45', '65', '85']\n",
      "Do you want to continue?\n",
      "Choose according to your choice:\n",
      "1-->push\n",
      "2-->pop\n",
      "3-->display stack\n",
      "4-->exit\n",
      "4\n"
     ]
    }
   ],
   "source": [
    "def create():\n",
    "    stack=[]\n",
    "    return stack\n",
    "def check(stack):\n",
    "    if len(stack)==0:\n",
    "        return 0\n",
    "    else:\n",
    "        return 1\n",
    "def push(stack,item):\n",
    "    stack.append(item)\n",
    "    print(\"Pushed \",item)\n",
    "def pop(stack):\n",
    "    if (check(stack)==0):\n",
    "        return \"Empty Stack\"\n",
    "    return stack.pop()\n",
    "\n",
    "n=int(input(\"How many elements you want to enter into the stack: \"))\n",
    "print(\"Enter the elemnts:\")\n",
    "s=create()\n",
    "for i in range(n):\n",
    "    push(s,input())\n",
    "ch=0\n",
    "while ch!=4:\n",
    "    print(\"Do you want to continue?\")\n",
    "    print(\"Choose according to your choice:\\n1-->push\\n2-->pop\\n3-->display stack\\n4-->exit\")\n",
    "    ch=int(input())\n",
    "    if ch==1:\n",
    "        print(\"Enter the element to push:\")\n",
    "        push(s,input())\n",
    "    elif ch==2:\n",
    "        pop(s)\n",
    "    elif ch==3:\n",
    "        print(s)\n",
    "    elif ch==4:\n",
    "        break\n",
    "    else:\n",
    "        print(\"Wrong choice\")\n",
    "    \n",
    "\n"
   ]
  },
  {
   "cell_type": "code",
   "execution_count": null,
   "id": "7d49f2f3",
   "metadata": {},
   "outputs": [],
   "source": []
  },
  {
   "cell_type": "code",
   "execution_count": null,
   "id": "5f4b3208",
   "metadata": {},
   "outputs": [],
   "source": []
  }
 ],
 "metadata": {
  "kernelspec": {
   "display_name": "Python 3",
   "language": "python",
   "name": "python3"
  },
  "language_info": {
   "codemirror_mode": {
    "name": "ipython",
    "version": 3
   },
   "file_extension": ".py",
   "mimetype": "text/x-python",
   "name": "python",
   "nbconvert_exporter": "python",
   "pygments_lexer": "ipython3",
   "version": "3.8.8"
  }
 },
 "nbformat": 4,
 "nbformat_minor": 5
}
