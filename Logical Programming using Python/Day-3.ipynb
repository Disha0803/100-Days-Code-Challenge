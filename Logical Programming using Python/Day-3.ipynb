{
 "cells": [
  {
   "cell_type": "markdown",
   "id": "1efb27de",
   "metadata": {},
   "source": [
    "#### 1. Linear Search"
   ]
  },
  {
   "cell_type": "code",
   "execution_count": 4,
   "id": "ff1d0428",
   "metadata": {},
   "outputs": [
    {
     "name": "stdout",
     "output_type": "stream",
     "text": [
      "Enter the number of elements you want in the list: 5\n",
      "Enter the elements: \n",
      "23\n",
      "45\n",
      "69\n",
      "85\n",
      "12\n",
      "Enter an element to search in the list: 85\n",
      "Element is present in the list\n"
     ]
    }
   ],
   "source": [
    "n=int(input(\"Enter the number of elements you want in the list: \"))\n",
    "print(\"Enter the elements: \")\n",
    "list=[]\n",
    "flag=0\n",
    "for i in range(n):\n",
    "    num=int(input())\n",
    "    list.append(num)\n",
    "    \n",
    "key=int(input(\"Enter an element to search in the list: \"))\n",
    "\n",
    "for i in list:\n",
    "    if i==key:\n",
    "        flag=1\n",
    "        break\n",
    "\n",
    "if flag==1:\n",
    "    print(\"Element is present in the list\")\n",
    "else:\n",
    "    print(\"Element is not present in the list\")"
   ]
  },
  {
   "cell_type": "markdown",
   "id": "f2d1f011",
   "metadata": {},
   "source": [
    "#### 2. Binary Search"
   ]
  },
  {
   "cell_type": "code",
   "execution_count": 15,
   "id": "4f3027a2",
   "metadata": {},
   "outputs": [
    {
     "name": "stdout",
     "output_type": "stream",
     "text": [
      "Enter the number of elements you want in the list: 5\n",
      "Enter the elements: \n",
      "32\n",
      "65\n",
      "12\n",
      "89\n",
      "48\n",
      "Enter an element to search in the list: 12\n",
      "Element is present in the list\n"
     ]
    }
   ],
   "source": [
    "n=int(input(\"Enter the number of elements you want in the list: \"))\n",
    "print(\"Enter the elements: \")\n",
    "list=[]\n",
    "flag=0\n",
    "for i in range(n):\n",
    "    num=int(input())\n",
    "    list.append(num)\n",
    "list.sort()\n",
    "key=int(input(\"Enter an element to search in the list: \"))\n",
    "low=0\n",
    "high=n-1\n",
    "while low<=high:\n",
    "    mid=low+(high-low)//2\n",
    "    if key==list[mid]:\n",
    "        flag=1\n",
    "        break\n",
    "    elif key>list[mid]:\n",
    "        low=mid+1\n",
    "    else:\n",
    "        high=mid-1        \n",
    "if flag==1:\n",
    "    print(\"Element is present in the list\")\n",
    "else:\n",
    "    print(\"Element is not present in the list\")\n",
    "    "
   ]
  },
  {
   "cell_type": "code",
   "execution_count": null,
   "id": "7ced05c2",
   "metadata": {},
   "outputs": [],
   "source": []
  }
 ],
 "metadata": {
  "kernelspec": {
   "display_name": "Python 3",
   "language": "python",
   "name": "python3"
  },
  "language_info": {
   "codemirror_mode": {
    "name": "ipython",
    "version": 3
   },
   "file_extension": ".py",
   "mimetype": "text/x-python",
   "name": "python",
   "nbconvert_exporter": "python",
   "pygments_lexer": "ipython3",
   "version": "3.8.8"
  }
 },
 "nbformat": 4,
 "nbformat_minor": 5
}
