{
 "cells": [
  {
   "cell_type": "markdown",
   "id": "de9fb4a7",
   "metadata": {},
   "source": [
    "#### 1. print first n numbers using recursion "
   ]
  },
  {
   "cell_type": "code",
   "execution_count": 8,
   "id": "002bd46b",
   "metadata": {},
   "outputs": [
    {
     "name": "stdout",
     "output_type": "stream",
     "text": [
      "1\n",
      "2\n",
      "3\n",
      "4\n",
      "5\n"
     ]
    }
   ],
   "source": [
    "def fun(num,n):\n",
    "    if num==n+1:\n",
    "        return\n",
    "    else:\n",
    "        print(num)\n",
    "        fun(num+1,n)\n",
    "fun(1,5)"
   ]
  },
  {
   "cell_type": "markdown",
   "id": "f50b3661",
   "metadata": {},
   "source": [
    "#### 2. print first n numbers using reverse recursion"
   ]
  },
  {
   "cell_type": "code",
   "execution_count": 9,
   "id": "2b78d03e",
   "metadata": {},
   "outputs": [
    {
     "name": "stdout",
     "output_type": "stream",
     "text": [
      "5\n",
      "4\n",
      "3\n",
      "2\n",
      "1\n"
     ]
    }
   ],
   "source": [
    "def fun(num,n):\n",
    "    if num==n+1:\n",
    "        return\n",
    "    else:\n",
    "        fun(num+1,n)\n",
    "        print(num)\n",
    "fun(1,5)"
   ]
  },
  {
   "cell_type": "markdown",
   "id": "b90d6e9f",
   "metadata": {},
   "source": [
    "#### 3. print star patter using recursion"
   ]
  },
  {
   "cell_type": "code",
   "execution_count": 10,
   "id": "b778a6c9",
   "metadata": {},
   "outputs": [
    {
     "name": "stdout",
     "output_type": "stream",
     "text": [
      "*\n",
      "**\n",
      "***\n",
      "****\n",
      "*****\n"
     ]
    }
   ],
   "source": [
    "def star(num,n):\n",
    "    print('*'*num)\n",
    "    if num==n:\n",
    "        return num\n",
    "    star(num+1,n)\n",
    "star(1,5)"
   ]
  },
  {
   "cell_type": "markdown",
   "id": "619ae425",
   "metadata": {},
   "source": [
    "#### 4. print first reverse star pattern using recursion"
   ]
  },
  {
   "cell_type": "code",
   "execution_count": 11,
   "id": "c6e05395",
   "metadata": {},
   "outputs": [
    {
     "name": "stdout",
     "output_type": "stream",
     "text": [
      "*****\n",
      "****\n",
      "***\n",
      "**\n",
      "*\n"
     ]
    }
   ],
   "source": [
    "def star(num,n):\n",
    "    print('*'*num)\n",
    "    if num==1:\n",
    "        return num\n",
    "    else:\n",
    "        star(num-1,n)\n",
    "star(5,1)"
   ]
  },
  {
   "cell_type": "markdown",
   "id": "9a590c66",
   "metadata": {},
   "source": [
    "#### 5. print sum of n natural numbers using recursion"
   ]
  },
  {
   "cell_type": "code",
   "execution_count": 12,
   "id": "8106bead",
   "metadata": {},
   "outputs": [
    {
     "name": "stdout",
     "output_type": "stream",
     "text": [
      "21\n"
     ]
    }
   ],
   "source": [
    "def sum(n):\n",
    "    if n==1:\n",
    "        return n\n",
    "    else:\n",
    "        return n+sum(n-1)\n",
    "print(sum(6))"
   ]
  }
 ],
 "metadata": {
  "kernelspec": {
   "display_name": "Python 3",
   "language": "python",
   "name": "python3"
  },
  "language_info": {
   "codemirror_mode": {
    "name": "ipython",
    "version": 3
   },
   "file_extension": ".py",
   "mimetype": "text/x-python",
   "name": "python",
   "nbconvert_exporter": "python",
   "pygments_lexer": "ipython3",
   "version": "3.8.8"
  }
 },
 "nbformat": 4,
 "nbformat_minor": 5
}
