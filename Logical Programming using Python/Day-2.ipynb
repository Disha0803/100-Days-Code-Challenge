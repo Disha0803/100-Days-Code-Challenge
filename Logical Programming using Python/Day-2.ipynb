{
 "cells": [
  {
   "cell_type": "markdown",
   "id": "de06da80",
   "metadata": {},
   "source": [
    "#### 1.\tPython program to find the Cumulative sum of a list"
   ]
  },
  {
   "cell_type": "code",
   "execution_count": 40,
   "id": "bcb2852e",
   "metadata": {},
   "outputs": [
    {
     "name": "stdout",
     "output_type": "stream",
     "text": [
      "Enter the number of elements you want in the list: 4\n",
      "Enter the elements: \n",
      "1\n",
      "2\n",
      "3\n",
      "4\n",
      "The cumulative sum list is:\n",
      "1 3 6 10 "
     ]
    }
   ],
   "source": [
    "n=int(input(\"Enter the number of elements you want in the list: \"))\n",
    "print(\"Enter the elements: \")\n",
    "list=[]\n",
    "cumsumlist=[]\n",
    "for i in range(n):\n",
    "    num=int(input())\n",
    "    list.append(num)\n",
    "\n",
    "sum=0\n",
    "for i in range(0,len(list)):\n",
    "    sum+=list[i]\n",
    "    cumsumlist.append(sum)\n",
    "    \n",
    "print(\"The cumulative sum list is:\")\n",
    "\n",
    "for i in cumsumlist:\n",
    "    print(i,end=' ')"
   ]
  },
  {
   "cell_type": "markdown",
   "id": "e267817d",
   "metadata": {},
   "source": [
    "#### 2. Replace most frequently occuring word in a sentence with K"
   ]
  },
  {
   "cell_type": "code",
   "execution_count": 14,
   "id": "674db76d",
   "metadata": {},
   "outputs": [
    {
     "name": "stdout",
     "output_type": "stream",
     "text": [
      "Enter a string: I love to code and to learn\n",
      "The Final string is:  I love K code and K learn\n"
     ]
    }
   ],
   "source": [
    "str=input(\"Enter a string: \")\n",
    "list=str.split()\n",
    "freq={}\n",
    "for i in list:\n",
    "    if i in freq:\n",
    "        freq[i]+=1\n",
    "    else:\n",
    "        freq[i]=1\n",
    "        \n",
    "res=max(freq,key=freq.get)\n",
    "str=str.replace(res,'K')\n",
    "print(\"The Final string is: \",str)"
   ]
  },
  {
   "cell_type": "markdown",
   "id": "f6c1ea89",
   "metadata": {},
   "source": [
    "#### 3.\tPython Program to print the pattern ‘G’"
   ]
  },
  {
   "cell_type": "code",
   "execution_count": 39,
   "id": "ee706cbc",
   "metadata": {},
   "outputs": [
    {
     "name": "stdout",
     "output_type": "stream",
     "text": [
      "Enter the number of rows and columns: 8\n",
      "* * * * * * * * \n",
      "\n",
      "*               \n",
      "\n",
      "*               \n",
      "\n",
      "*     * * * * * \n",
      "\n",
      "*             * \n",
      "\n",
      "*             * \n",
      "\n",
      "*             * \n",
      "\n",
      "* * * * * * * * \n",
      "\n"
     ]
    }
   ],
   "source": [
    "n=int(input(\"Enter the number of rows and columns: \"))\n",
    "for i in range(n):\n",
    "    for j in range(n):\n",
    "        if ((i==0 and (j!=0 or j!=n-1)) or (i==n-1 and (j!=0 or j!=n-1)) or\n",
    "           (j==0 and (i!=0 or i!=n-1)) or (j==n-1 and (i!=0 or i!=n-1) and (i>=(n//2)-1))or\n",
    "           (i==(n//2)-1 and ((n//2)-1<=j<n-1))):\n",
    "            print('*',end=' ')\n",
    "        else:\n",
    "            print(\" \",end=' ')\n",
    "    print('\\n')\n"
   ]
  },
  {
   "cell_type": "markdown",
   "id": "c0751182",
   "metadata": {},
   "source": [
    "#### 4. Python Program to print double-sided stair-case pattern"
   ]
  },
  {
   "cell_type": "code",
   "execution_count": 51,
   "id": "9672bc03",
   "metadata": {},
   "outputs": [
    {
     "name": "stdout",
     "output_type": "stream",
     "text": [
      "Enter the number of rows and columns: 6\n",
      "         *   * \n",
      "         *   * \n",
      "     *   *   *   * \n",
      "     *   *   *   * \n",
      " *   *   *   *   *   * \n",
      " *   *   *   *   *   * \n"
     ]
    }
   ],
   "source": [
    "n=int(input(\"Enter the number of rows and columns: \"))\n",
    "for i in range(1,n+1):\n",
    "    if(i % 2 != 0):\n",
    "        k =i + 1  \n",
    "    else:\n",
    "        k=i\n",
    "    for g in range(k,n):\n",
    "        if g>=k:\n",
    "            print(end=\"  \")\n",
    "    for j in range(0,k):\n",
    "        if j == k - 1:\n",
    "            print(\" * \")\n",
    "        else:\n",
    "            print(\" * \", end = \" \")\n",
    "        "
   ]
  },
  {
   "cell_type": "markdown",
   "id": "f9afca54",
   "metadata": {},
   "source": [
    "#### 5. Find yesterday’s, todays, and tomorrow’s date"
   ]
  },
  {
   "cell_type": "code",
   "execution_count": 59,
   "id": "d1909320",
   "metadata": {},
   "outputs": [
    {
     "name": "stdout",
     "output_type": "stream",
     "text": [
      "Todays date is:  2023-02-10\n",
      "Yesterday's date was:  2023-02-09\n",
      "Tomorrow's date will be:  2023-02-11\n"
     ]
    }
   ],
   "source": [
    "import datetime as dt\n",
    "today=dt.date.today()\n",
    "yesterday=today-dt.timedelta(days=1)\n",
    "tomorrow=today+dt.timedelta(days=1)\n",
    "print(\"Todays date is: \",today)\n",
    "print(\"Yesterday's date was: \",yesterday)\n",
    "print(\"Tomorrow's date will be: \",tomorrow)"
   ]
  },
  {
   "cell_type": "code",
   "execution_count": null,
   "id": "6c6c4268",
   "metadata": {},
   "outputs": [],
   "source": []
  }
 ],
 "metadata": {
  "kernelspec": {
   "display_name": "Python 3",
   "language": "python",
   "name": "python3"
  },
  "language_info": {
   "codemirror_mode": {
    "name": "ipython",
    "version": 3
   },
   "file_extension": ".py",
   "mimetype": "text/x-python",
   "name": "python",
   "nbconvert_exporter": "python",
   "pygments_lexer": "ipython3",
   "version": "3.8.8"
  }
 },
 "nbformat": 4,
 "nbformat_minor": 5
}
