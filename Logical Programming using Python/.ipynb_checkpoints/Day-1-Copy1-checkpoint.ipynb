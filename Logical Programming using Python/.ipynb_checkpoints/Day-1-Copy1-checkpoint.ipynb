{
 "cells": [
  {
   "cell_type": "markdown",
   "id": "f1951172",
   "metadata": {},
   "source": [
    "#### 1.\tPython Program to check if two Strings are Anagram."
   ]
  },
  {
   "cell_type": "code",
   "execution_count": 6,
   "id": "8193ff0e",
   "metadata": {},
   "outputs": [
    {
     "name": "stdout",
     "output_type": "stream",
     "text": [
      "Enter 1st string: abcd\n",
      "Enter 2nd string: cbda\n",
      "The two strings are anagram.\n"
     ]
    }
   ],
   "source": [
    "str1=input(\"Enter 1st string: \")\n",
    "str2=input(\"Enter 2nd string: \")\n",
    "str1=sorted(str1)\n",
    "str2=sorted(str2)\n",
    "\n",
    "if str1==str2:\n",
    "    print(\"The two strings are anagram.\")\n",
    "else:\n",
    "    print(\"The two strings are not anagram.\")"
   ]
  },
  {
   "cell_type": "markdown",
   "id": "ff3c6521",
   "metadata": {},
   "source": [
    "#### 2.\tPython program to perform left rotation of array elements by two positions."
   ]
  },
  {
   "cell_type": "code",
   "execution_count": 8,
   "id": "5e08a719",
   "metadata": {},
   "outputs": [
    {
     "name": "stdout",
     "output_type": "stream",
     "text": [
      "Enter the number of elements you want in the array: 5\n",
      "Enter the elements: \n",
      "1\n",
      "2\n",
      "3\n",
      "4\n",
      "5\n",
      "After two left rotations: \n",
      "3 4 5 1 2 "
     ]
    }
   ],
   "source": [
    "n=int(input(\"Enter the number of elements you want in the array: \"))\n",
    "print(\"Enter the elements: \")\n",
    "list=[]\n",
    "for i in range(n):\n",
    "    num=int(input())\n",
    "    list.append(num)\n",
    "    \n",
    "for i in range(2):\n",
    "    fn=list[0]\n",
    "    for j in range(len(list)-1):\n",
    "        list[j]=list[j+1]\n",
    "    list[len(list)-1]=fn\n",
    "    \n",
    "print(\"After two left rotations: \")\n",
    "for i in list:\n",
    "    print(i,end=\" \")"
   ]
  },
  {
   "cell_type": "markdown",
   "id": "0863c1c0",
   "metadata": {},
   "source": [
    "#### 3.\tWrite a program in Python to find all pairs in an array of integers whose sum is equal to the given number."
   ]
  },
  {
   "cell_type": "code",
   "execution_count": 11,
   "id": "442cc8d1",
   "metadata": {},
   "outputs": [
    {
     "name": "stdout",
     "output_type": "stream",
     "text": [
      "Enter the number of elements you want in the array: 5\n",
      "Enter the elements: \n",
      "5\n",
      "2\n",
      "3\n",
      "8\n",
      "5\n",
      "Enter the sum: 10\n",
      "5   5\n",
      "2   8\n"
     ]
    }
   ],
   "source": [
    "n=int(input(\"Enter the number of elements you want in the array: \"))\n",
    "print(\"Enter the elements: \")\n",
    "list=[]\n",
    "for i in range(n):\n",
    "    num=int(input())\n",
    "    list.append(num)\n",
    "    \n",
    "sum=int(input(\"Enter the sum: \"))\n",
    "\n",
    "for i in range(len(list)-1):\n",
    "    for j in range(i+1,len(list)):\n",
    "        if list[i]+list[j]==sum:\n",
    "            print(list[i],\" \",list[j])"
   ]
  },
  {
   "cell_type": "markdown",
   "id": "5bf6b8ed",
   "metadata": {},
   "source": [
    "#### 4.\tPython program to print the highest frequency character in a String."
   ]
  },
  {
   "cell_type": "code",
   "execution_count": 14,
   "id": "03e445c2",
   "metadata": {},
   "outputs": [
    {
     "name": "stdout",
     "output_type": "stream",
     "text": [
      "Enter a string: aabcd\n",
      "Highest frequency character in the string is:  a\n"
     ]
    }
   ],
   "source": [
    "str=input(\"Enter a string: \")\n",
    "freq={}\n",
    "for i in str:\n",
    "    if i in freq:\n",
    "        freq[i]+=1\n",
    "    else:\n",
    "        freq[i]=1\n",
    "        \n",
    "res=max(freq,key=freq.get)\n",
    "\n",
    "print(\"Highest frequency character in the string is: \",res)"
   ]
  },
  {
   "cell_type": "markdown",
   "id": "10721f7b",
   "metadata": {},
   "source": [
    "#### 5.\tWrite a program in Python to find given number is perfect or not."
   ]
  },
  {
   "cell_type": "code",
   "execution_count": 1,
   "id": "9820efaa",
   "metadata": {},
   "outputs": [
    {
     "name": "stdout",
     "output_type": "stream",
     "text": [
      "Enter a number: 6\n",
      "6 is a Perfect Number \n"
     ]
    }
   ],
   "source": [
    "num=int(input(\"Enter a number: \"))\n",
    "sum=0\n",
    "for i in range(1,num):\n",
    "    if num%i==0:\n",
    "        sum+=i\n",
    "        \n",
    "if sum==num:\n",
    "    print(num,\"is a Perfect Number \")\n",
    "else:\n",
    "    print(num,\"is not a Perfect Number\")"
   ]
  },
  {
   "cell_type": "code",
   "execution_count": null,
   "id": "3d2c0c43",
   "metadata": {},
   "outputs": [],
   "source": []
  }
 ],
 "metadata": {
  "kernelspec": {
   "display_name": "Python 3",
   "language": "python",
   "name": "python3"
  },
  "language_info": {
   "codemirror_mode": {
    "name": "ipython",
    "version": 3
   },
   "file_extension": ".py",
   "mimetype": "text/x-python",
   "name": "python",
   "nbconvert_exporter": "python",
   "pygments_lexer": "ipython3",
   "version": "3.8.8"
  }
 },
 "nbformat": 4,
 "nbformat_minor": 5
}
