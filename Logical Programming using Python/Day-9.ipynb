{
 "cells": [
  {
   "cell_type": "markdown",
   "id": "e3ba8dd9",
   "metadata": {},
   "source": [
    "#### Binary Heap"
   ]
  },
  {
   "cell_type": "code",
   "execution_count": 1,
   "id": "3969f9c0",
   "metadata": {},
   "outputs": [
    {
     "name": "stdout",
     "output_type": "stream",
     "text": [
      "[10]\n",
      "[1, 10]\n",
      "[1, 10, 5]\n",
      "1\n",
      "[5, 10]\n",
      "5\n",
      "[10]\n",
      "[1, 2, 5, 3, 4, 6]\n",
      "1\n",
      "[2, 3, 5, 89, 4, 6]\n",
      "2\n",
      "[3, 4, 5, 89, 100, 6]\n",
      "[1, 2]\n",
      "[1, 2, 3, 4]\n",
      "[20, 6, 5]\n",
      "[(1, 'ria'), (4, 'sia'), (3, 'gia')]\n",
      "(1, 'ria')\n",
      "(3, 'gia')\n",
      "(4, 'sia')\n"
     ]
    }
   ],
   "source": [
    "import heapq as h\n",
    "heap=[]\n",
    "h.heappush(heap,10)\n",
    "print(heap)  #[10]\n",
    "h.heappush(heap,1)\n",
    "print(heap) #[1, 10]\n",
    "h.heappush(heap,5)\n",
    "print(heap) #[1, 10, 5]\n",
    "\n",
    "print(h.heappop(heap)) #1\n",
    "print(heap) #[5, 10]\n",
    "print(h.heappop(heap)) #5\n",
    "print(heap) #[10]\n",
    "\n",
    "list1=[1,3,5,2,4,6]\n",
    "h.heapify(list1)\n",
    "print(list1) #[1, 2, 5, 3, 4, 6]\n",
    "\n",
    "print(h.heappushpop(list1,89)) #1\n",
    "print(list1) #[2, 3, 5, 89, 4, 6]\n",
    "\n",
    "print(h.heapreplace(list1,100)) #2\n",
    "print(list1) #[3, 4, 5, 89, 100, 6]\n",
    "\n",
    "heap=[1,20,5,4,3,6,2]\n",
    "print(h.nsmallest(2,heap)) #[1, 2]\n",
    "print(h.nsmallest(4,heap)) #[1, 2, 3, 4]\n",
    "\n",
    "print(h.nlargest(3,heap)) #[20, 6, 5]\n",
    "\n",
    "\n",
    "list1=[(1,\"ria\"),(4,\"sia\"),(3,\"gia\")]\n",
    "h.heapify(list1)\n",
    "print(list1) #[(1, 'ria'), (4, 'sia'), (3, 'gia')]\n",
    "for i in range(len(list1)):\n",
    "    print(h.heappop(list1))\n",
    "# (1, 'ria')\n",
    "# (3, 'gia')\n",
    "# (4, 'sia')"
   ]
  },
  {
   "cell_type": "code",
   "execution_count": null,
   "id": "a669d30a",
   "metadata": {},
   "outputs": [],
   "source": []
  }
 ],
 "metadata": {
  "kernelspec": {
   "display_name": "Python 3",
   "language": "python",
   "name": "python3"
  },
  "language_info": {
   "codemirror_mode": {
    "name": "ipython",
    "version": 3
   },
   "file_extension": ".py",
   "mimetype": "text/x-python",
   "name": "python",
   "nbconvert_exporter": "python",
   "pygments_lexer": "ipython3",
   "version": "3.8.8"
  }
 },
 "nbformat": 4,
 "nbformat_minor": 5
}
