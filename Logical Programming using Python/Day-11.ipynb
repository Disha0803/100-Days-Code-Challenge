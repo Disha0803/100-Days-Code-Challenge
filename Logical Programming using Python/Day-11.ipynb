{
 "cells": [
  {
   "cell_type": "markdown",
   "id": "62323e0a",
   "metadata": {},
   "source": [
    "#### Compute factorial of a number using recursion"
   ]
  },
  {
   "cell_type": "code",
   "execution_count": 1,
   "id": "3fa0f279",
   "metadata": {},
   "outputs": [
    {
     "name": "stdout",
     "output_type": "stream",
     "text": [
      "6\n"
     ]
    }
   ],
   "source": [
    "def fact(n):\n",
    "    if n==1:\n",
    "        return n\n",
    "    return n * fact(n-1)\n",
    "print(fact(3))"
   ]
  },
  {
   "cell_type": "markdown",
   "id": "a6e5cfa4",
   "metadata": {},
   "source": [
    "#### Compute fibonacci series using recursion"
   ]
  },
  {
   "cell_type": "code",
   "execution_count": 2,
   "id": "e0c8e4b9",
   "metadata": {},
   "outputs": [
    {
     "name": "stdout",
     "output_type": "stream",
     "text": [
      "3\n",
      "8\n"
     ]
    }
   ],
   "source": [
    "def fibo(n):\n",
    "    if n<=1:\n",
    "        return n\n",
    "    return fibo(n-1)+fibo(n-2)\n",
    "print(fibo(4))\n",
    "print(fibo(6))"
   ]
  },
  {
   "cell_type": "markdown",
   "id": "d517dfa9",
   "metadata": {},
   "source": [
    "#### Indirect Recursion"
   ]
  },
  {
   "cell_type": "code",
   "execution_count": 3,
   "id": "a84cbda3",
   "metadata": {},
   "outputs": [
    {
     "name": "stdout",
     "output_type": "stream",
     "text": [
      "fun1 = 2\n",
      "fun2 = 200\n",
      "fun1 = 6\n",
      "fun2 = 400\n",
      "fun1 = 10\n",
      "fun2 = 600\n"
     ]
    }
   ],
   "source": [
    "def fun1(num):\n",
    "    if num<=6:\n",
    "        print(f'fun1 = {num*2}')\n",
    "        fun2(num+1)\n",
    "    return\n",
    "\n",
    "def fun2(num):\n",
    "    if num<=6:\n",
    "        print(f'fun2 = {num*100}')\n",
    "        fun1(num+1)\n",
    "    return\n",
    "fun1(1)"
   ]
  },
  {
   "cell_type": "markdown",
   "id": "c88da882",
   "metadata": {},
   "source": [
    "#### Print pyramid using recursion"
   ]
  },
  {
   "cell_type": "code",
   "execution_count": 4,
   "id": "d29f2cae",
   "metadata": {},
   "outputs": [
    {
     "name": "stdout",
     "output_type": "stream",
     "text": [
      "      * \n",
      "     *  * \n",
      "    *  *  * \n",
      "   *  *  *  * \n",
      "  *  *  *  *  * \n"
     ]
    }
   ],
   "source": [
    "def star(num,n):\n",
    "    k=n-num\n",
    "    print(' '*k,end=' ')\n",
    "    print(\" * \"*num)\n",
    "    if num==n:\n",
    "        return num\n",
    "    star(num+1,n)\n",
    "star(1,5)"
   ]
  }
 ],
 "metadata": {
  "kernelspec": {
   "display_name": "Python 3",
   "language": "python",
   "name": "python3"
  },
  "language_info": {
   "codemirror_mode": {
    "name": "ipython",
    "version": 3
   },
   "file_extension": ".py",
   "mimetype": "text/x-python",
   "name": "python",
   "nbconvert_exporter": "python",
   "pygments_lexer": "ipython3",
   "version": "3.8.8"
  }
 },
 "nbformat": 4,
 "nbformat_minor": 5
}
