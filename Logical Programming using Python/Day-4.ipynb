{
 "cells": [
  {
   "cell_type": "markdown",
   "id": "979e73bb",
   "metadata": {},
   "source": [
    "#### Insertion Sort"
   ]
  },
  {
   "cell_type": "code",
   "execution_count": 4,
   "id": "5ed3063d",
   "metadata": {},
   "outputs": [
    {
     "name": "stdout",
     "output_type": "stream",
     "text": [
      "Enter the number of elements you want in the list: 5\n",
      "Enter the elements: \n",
      "85\n",
      "12\n",
      "23\n",
      "50\n",
      "65\n",
      "Sorted list: \n",
      "12 23 50 65 85 "
     ]
    }
   ],
   "source": [
    "n=int(input(\"Enter the number of elements you want in the list: \"))\n",
    "print(\"Enter the elements: \")\n",
    "list=[]\n",
    "for i in range(n):\n",
    "    num=int(input())\n",
    "    list.append(num)\n",
    "    \n",
    "for i in range(1, len(list)):\n",
    "        key = list[i]\n",
    "        j = i - 1      \n",
    "        while j >= 0 and key < list[j]:\n",
    "            list[j + 1] = list[j]\n",
    "            j = j - 1\n",
    "            \n",
    "        list[j + 1] = key\n",
    "        \n",
    "print(\"Sorted list: \")\n",
    "for i in list:\n",
    "    print(i,end=' ')\n"
   ]
  },
  {
   "cell_type": "markdown",
   "id": "ffc32c16",
   "metadata": {},
   "source": [
    "#### Selection Sort"
   ]
  },
  {
   "cell_type": "code",
   "execution_count": 11,
   "id": "41642443",
   "metadata": {},
   "outputs": [
    {
     "name": "stdout",
     "output_type": "stream",
     "text": [
      "Enter the number of elements you want in the list: 5\n",
      "Enter the elements: \n",
      "23\n",
      "32\n",
      "15\n",
      "85\n",
      "82\n",
      "Sorted list: \n",
      "15 23 32 82 85 "
     ]
    }
   ],
   "source": [
    "n=int(input(\"Enter the number of elements you want in the list: \"))\n",
    "print(\"Enter the elements: \")\n",
    "list=[]\n",
    "for i in range(n):\n",
    "    num=int(input())\n",
    "    list.append(num)\n",
    "    \n",
    "for i in range(n):\n",
    "        min_index = i\n",
    "\n",
    "        for j in range(i + 1, n):\n",
    "            if list[j] < list[min_index]:\n",
    "                min_index = j\n",
    "         \n",
    "        (list[i], list[min_index]) = (list[min_index], list[i])\n",
    "        \n",
    "print(\"Sorted list: \")\n",
    "for i in list:\n",
    "    print(i,end=' ')\n"
   ]
  },
  {
   "cell_type": "markdown",
   "id": "70d3fe72",
   "metadata": {},
   "source": [
    "#### Bubble Sort"
   ]
  },
  {
   "cell_type": "code",
   "execution_count": 13,
   "id": "3fa63ba2",
   "metadata": {},
   "outputs": [
    {
     "name": "stdout",
     "output_type": "stream",
     "text": [
      "Enter the number of elements you want in the list: 5\n",
      "Enter the elements: \n",
      "95\n",
      "62\n",
      "98\n",
      "13\n",
      "24\n",
      "Sorted list: \n",
      "13 24 62 95 98 "
     ]
    }
   ],
   "source": [
    "n=int(input(\"Enter the number of elements you want in the list: \"))\n",
    "print(\"Enter the elements: \")\n",
    "list=[]\n",
    "for i in range(n):\n",
    "    num=int(input())\n",
    "    list.append(num)\n",
    "    \n",
    "for i in range(n):\n",
    "    \n",
    "    for j in range(0, n - i - 1):\n",
    "      if (list[j] > list[j + 1]):\n",
    "        temp = list[j]\n",
    "        list[j] = list[j+1]\n",
    "        list[j+1] = temp\n",
    "        \n",
    "print(\"Sorted list: \")\n",
    "for i in list:\n",
    "    print(i,end=' ')"
   ]
  },
  {
   "cell_type": "code",
   "execution_count": null,
   "id": "7f80fef6",
   "metadata": {},
   "outputs": [],
   "source": []
  }
 ],
 "metadata": {
  "kernelspec": {
   "display_name": "Python 3",
   "language": "python",
   "name": "python3"
  },
  "language_info": {
   "codemirror_mode": {
    "name": "ipython",
    "version": 3
   },
   "file_extension": ".py",
   "mimetype": "text/x-python",
   "name": "python",
   "nbconvert_exporter": "python",
   "pygments_lexer": "ipython3",
   "version": "3.8.8"
  }
 },
 "nbformat": 4,
 "nbformat_minor": 5
}
